{
 "cells": [
  {
   "cell_type": "code",
   "execution_count": 8,
   "id": "4a61e7af",
   "metadata": {},
   "outputs": [
    {
     "name": "stdout",
     "output_type": "stream",
     "text": [
      "Enter first Value 34\n",
      "Enter operator +\n",
      "Enter second Value 89\n",
      "123\n"
     ]
    }
   ],
   "source": [
    "#1\n",
    "\n",
    "val_1 = int(input(\"Enter first Value \"))\n",
    "oper = input(\"Enter operator \")\n",
    "val_2 = int(input(\"Enter second Value \"))\n",
    "\n",
    "if oper == '-':\n",
    "    val = val_1 - val_2\n",
    "    print(val)\n",
    "\n",
    "elif oper == '+':\n",
    "    val = val_1 + val_2\n",
    "    print(val)\n",
    "        \n",
    "elif oper == '*':\n",
    "    val = val_1 * val_2\n",
    "    print(val)\n",
    "    \n",
    "elif oper == '/':\n",
    "    val = val_1 / val_2\n",
    "    print(val)\n",
    "    \n",
    "else :\n",
    "    print(\"Use correct operator\")\n",
    "    "
   ]
  },
  {
   "cell_type": "code",
   "execution_count": 9,
   "id": "7d6dd9b1",
   "metadata": {},
   "outputs": [
    {
     "name": "stdout",
     "output_type": "stream",
     "text": [
      "4\n",
      "6\n"
     ]
    }
   ],
   "source": [
    "#2\n",
    "\n",
    "my_list = [\"usman\", 4, 6, \"javed\", \"zoya\"] \n",
    "for i in my_list: \n",
    "    if type(i) == int: \n",
    "        print(i)"
   ]
  },
  {
   "cell_type": "code",
   "execution_count": 4,
   "id": "a1035d9d",
   "metadata": {},
   "outputs": [
    {
     "name": "stdout",
     "output_type": "stream",
     "text": [
      "{1: 'mehran', 2: 'honda', 3: {1: 'civic', 2: 'city', 3: 'fortuner', 4: 'corolla', 5: 'vezel'}}\n"
     ]
    }
   ],
   "source": [
    "#3\n",
    "\n",
    "cars = {1: 'mehran', 2: 'honda', 3: {1: 'civic', 2:'city', 3: 'fortuner', 4:'corolla'}}\n",
    "\n",
    "cars[3][5] = 'vezel'\n",
    "print(cars)"
   ]
  },
  {
   "cell_type": "code",
   "execution_count": 5,
   "id": "54863120",
   "metadata": {},
   "outputs": [
    {
     "name": "stdout",
     "output_type": "stream",
     "text": [
      "160\n"
     ]
    }
   ],
   "source": [
    "#4\n",
    "\n",
    "num = {'one': 49, 'two': 36, 'three': 34, 'four': 41}\n",
    "\n",
    "addit = 0\n",
    "for i in num:\n",
    "    addit += num[i]\n",
    "\n",
    "print(addit)"
   ]
  },
  {
   "cell_type": "code",
   "execution_count": 6,
   "id": "ac30ad3e",
   "metadata": {},
   "outputs": [
    {
     "name": "stdout",
     "output_type": "stream",
     "text": [
      "6\n"
     ]
    }
   ],
   "source": [
    "#5\n",
    "\n",
    "num_1 = [99, 1031, 456, 6, 45, 903, 6]\n",
    "num_2 = []\n",
    "\n",
    "for i in num_1 :\n",
    "    if i not in num_2 :\n",
    "        num_2.append(i)\n",
    "        \n",
    "    else :\n",
    "        print(i)"
   ]
  },
  {
   "cell_type": "code",
   "execution_count": 7,
   "id": "68cb1df2",
   "metadata": {},
   "outputs": [
    {
     "name": "stdout",
     "output_type": "stream",
     "text": [
      "Key already present\n"
     ]
    }
   ],
   "source": [
    "#6\n",
    "\n",
    "fruits = {1:'apple', 2:'banana', 3:'orange', 4:'mango' }\n",
    " \n",
    "if fruits.get(3) :\n",
    "    print(\"Key already present\")\n",
    "    \n",
    "else:\n",
    "    print(\"Key Don't already present\")"
   ]
  },
  {
   "cell_type": "code",
   "execution_count": null,
   "id": "e79d9db5",
   "metadata": {},
   "outputs": [],
   "source": []
  }
 ],
 "metadata": {
  "kernelspec": {
   "display_name": "Python 3",
   "language": "python",
   "name": "python3"
  },
  "language_info": {
   "codemirror_mode": {
    "name": "ipython",
    "version": 3
   },
   "file_extension": ".py",
   "mimetype": "text/x-python",
   "name": "python",
   "nbconvert_exporter": "python",
   "pygments_lexer": "ipython3",
   "version": "3.8.8"
  }
 },
 "nbformat": 4,
 "nbformat_minor": 5
}
